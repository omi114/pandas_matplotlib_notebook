{
 "cells": [
  {
   "cell_type": "code",
   "execution_count": null,
   "metadata": {},
   "outputs": [],
   "source": [
    "# import pandas as pd\n",
    "import matplotlib.pylab as plt\n",
    "import time\n",
    "\n",
    "sd = pd.read_csv(r'example_expenses.csv')"
   ]
  },
  {
   "cell_type": "code",
   "execution_count": null,
   "metadata": {},
   "outputs": [],
   "source": [
    "print('\\nSpend data collected. Here is a preview...\\n')\n",
    "print(sd)\n"
   ]
  },
  {
   "cell_type": "code",
   "execution_count": null,
   "metadata": {},
   "outputs": [],
   "source": [
    "print('Printing a few interesting stats about the data:')\n",
    "print(sd.describe())"
   ]
  },
  {
   "cell_type": "code",
   "execution_count": null,
   "metadata": {},
   "outputs": [],
   "source": [
    "print('\\nLet\\'s remove the entries that are credit (not debit)')\n",
    "\n",
    "sd = sd[sd.Amount < 0]\n",
    "print(sd)\n",
    "print('Done')\n"
   ]
  },
  {
   "cell_type": "code",
   "execution_count": null,
   "metadata": {},
   "outputs": [],
   "source": [
    "#Removing year from transaction date:\n",
    "print('\\nRemoving the year form the date to make the graph more readable.')\n",
    "sd['Transaction Date'] = sd['Transaction Date'].apply(lambda x: x.replace('/2018',''))\n",
    "print('\\nMassaging the data a bit more for readability.')\n",
    "sd['Amount'] = sd['Amount'].apply(lambda x: x*-1)\n"
   ]
  },
  {
   "cell_type": "code",
   "execution_count": null,
   "metadata": {},
   "outputs": [],
   "source": [
    "#iterating over dataframe\n",
    "uniq_sd = {}\n",
    "\n",
    "print('\\nAggregating all the expenses for each date\\n')\n",
    "time.sleep(2)\n",
    "\n",
    "for index, row in sd.iterrows():\n",
    "    if row['Transaction Date'] in uniq_sd:\n",
    "      uniq_sd[row['Transaction Date']] = uniq_sd[row['Transaction Date']] + row['Amount']\n",
    "    else:\n",
    "      uniq_sd[row['Transaction Date']] = row['Amount']\n",
    "\n",
    "print('Done')"
   ]
  },
  {
   "cell_type": "code",
   "execution_count": null,
   "metadata": {},
   "outputs": [],
   "source": [
    "# Cleanup memory about any previous graphs \n",
    "print('\\nReady to create plots')\n",
    "print('Removing any memory about previous plots')\n",
    "\n",
    "plt.cla\n",
    "plt.clf\n",
    "plt.close()\n"
   ]
  },
  {
   "cell_type": "code",
   "execution_count": null,
   "metadata": {
    "scrolled": true
   },
   "outputs": [],
   "source": [
    "print('Creating new plots')\n",
    "#plt.subplot(2,1,1)\n",
    "plt.rcParams['figure.figsize'] = [20,10]\n",
    "plt.bar(range(len(uniq_sd)), list(uniq_sd.values()), align='center')\n",
    "plt.xticks(range(len(uniq_sd)), list(uniq_sd.keys()))\n",
    "\n",
    "for x, y in enumerate(uniq_sd.values()):\n",
    "    val = int(y)\n",
    "    plt.text(x-0.4, val+4, '$'+str(val), color='blue', fontsize=16)\n",
    "\n",
    "plt.xlabel('Days', fontsize=24)\n",
    "plt.ylabel('Spending', fontsize=24)\n",
    "plt.title('Spending for every day in the given time period', fontsize=32)"
   ]
  },
  {
   "cell_type": "code",
   "execution_count": null,
   "metadata": {
    "scrolled": true
   },
   "outputs": [],
   "source": [
    "# Assign categories and then aggregate\n",
    "category_expense = {}\n",
    "for index, row in sd.iterrows():\n",
    "  if row['Category'] in category_expense:\n",
    "    category_expense[row['Category']] = category_expense[row['Category']] + row['Amount']\n",
    "  else:\n",
    "    category_expense[row['Category']] = row['Amount']\n",
    "\n",
    "expense_values = list(category_expense.values())\n",
    "expense_values = list(map(int, expense_values))\n",
    "\n",
    "plt.subplot(2,1,2)\n",
    "plt.title('Category wise spending', fontsize=32)\n",
    "plt.rcParams['figure.figsize'] = [30,30]\n",
    "plt.pie(expense_values, labels=list(category_expense.keys()),autopct='%1.1f%%')\n",
    "plt.show()\n"
   ]
  },
  {
   "cell_type": "code",
   "execution_count": null,
   "metadata": {},
   "outputs": [],
   "source": []
  }
 ],
 "metadata": {
  "kernelspec": {
   "display_name": "Python 3",
   "language": "python",
   "name": "python3"
  },
  "language_info": {
   "codemirror_mode": {
    "name": "ipython",
    "version": 3
   },
   "file_extension": ".py",
   "mimetype": "text/x-python",
   "name": "python",
   "nbconvert_exporter": "python",
   "pygments_lexer": "ipython3",
   "version": "3.7.3"
  }
 },
 "nbformat": 4,
 "nbformat_minor": 2
}
